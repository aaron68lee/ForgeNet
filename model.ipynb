{
 "cells": [
  {
   "attachments": {},
   "cell_type": "markdown",
   "metadata": {},
   "source": [
    "# Load Processed Data"
   ]
  },
  {
   "cell_type": "markdown",
   "metadata": {},
   "source": [
    "## Helper Functions"
   ]
  },
  {
   "cell_type": "code",
   "execution_count": 79,
   "metadata": {},
   "outputs": [
    {
     "name": "stdout",
     "output_type": "stream",
     "text": [
      "[[0, 0, 0, 0, 0, 0, 0, 0, 1, 1, 0, 0, 0, 0, 0, 0, 0, 0, 1, 0, 0, 0, 0, 0, 0, 0, 0, 0, 0, 0, 0, 0, 1, 0, 0, 0, 0, 0, 0, 1, 0, 0, 0, 0, 0], [0, 1, 0, 0, 0, 0, 0, 0, 0, 0, 0, 0, 0, 0, 0, 0, 0, 1, 0, 0, 0, 0, 0, 0, 1, 0, 0, 0, 0, 0, 0, 0, 0, 0, 0, 1, 0, 0, 0, 0, 0, 0, 1, 0, 0, 0, 0, 0, 0, 0, 0, 0, 0, 1], [0, 0, 1, 0, 0, 0, 0, 0, 0, 0, 0, 0, 0, 1, 0, 0, 0, 0, 0, 0, 0, 0, 0, 0, 0, 0, 1, 0, 0, 0, 0, 0, 0, 1, 0, 0, 0, 0, 0, 0, 0, 0, 0, 1, 0, 0, 0, 0, 1, 0, 0, 0, 0, 0]]\n",
      "9\n"
     ]
    }
   ],
   "source": [
    "from typing import List, Set\n",
    "from sklearn.preprocessing import LabelEncoder, OneHotEncoder\n",
    "\n",
    "\n",
    "def getUniqueSetOfChars(words_lst: List[str]) -> List[str]:\n",
    "    '''\n",
    "    Find a list of unique chars in words_lst. This is needed for the one hot encoding to turn words into numerical vectors\n",
    "    '''\n",
    "    unique_chars = set()\n",
    "    for word in words_lst:\n",
    "        unique_chars.update(set(word))\n",
    "    return list(unique_chars)\n",
    "\n",
    "# print(getUniqueSetOfChars(words_lst))\n",
    "\n",
    "\n",
    "\n",
    "def oneHotEncodeStrings(unique_chars: List[str], strings: List[List[str]]) -> List[List[int]]:\n",
    "    char_indices = {char: i for i, char in enumerate(unique_chars)}\n",
    "    encoded_vectors = []\n",
    "    \n",
    "    for string_list in strings:\n",
    "        encoded_string = [\n",
    "            [1 if char in string else 0 for char in unique_chars]\n",
    "            for string in string_list\n",
    "        ]\n",
    "        encoded_vectors.append([val for sublist in encoded_string for val in sublist])\n",
    "    \n",
    "    return encoded_vectors\n",
    "\n",
    "\n",
    "\n",
    "test = ['apple', 'banana', 'orange']\n",
    "print(oneHotEncodeStrings(getUniqueSetOfChars(test) ,test))\n",
    "# print(len(oneHotEncodingCharacters(test)[0]))\n",
    "print(len(set(\"\".join(test))))"
   ]
  },
  {
   "cell_type": "code",
   "execution_count": 3,
   "metadata": {},
   "outputs": [],
   "source": [
    "def deskew_process(image):\n",
    "\t# deskew image\n",
    "\timage = ioski.imread(sample_img)\n",
    "\tgrayscale = rgb2gray(image)\n",
    "\tangle = determine_skew(grayscale)\n",
    "\trotated = rotate(image, angle, resize=True) * 255\n",
    "\treturn rotated"
   ]
  },
  {
   "cell_type": "code",
   "execution_count": 17,
   "metadata": {},
   "outputs": [
    {
     "data": {
      "text/plain": [
       "' \\n# obsolete\\n# Step 5: Data preparation\\ndef get_random_text_input(start, batch_size): #Links \\n    \"\"\"\\n    Custom function to get text input for training\\n    \"\"\"\\n\\n    pass\\n\\ndef get_images(start, batch_size):\\n    \"\"\"\\n    Custom function to get real images for training\\n    \"\"\"\\n    pass\\n'"
      ]
     },
     "execution_count": 28,
     "metadata": {},
     "output_type": "execute_result"
    },
    {
     "ename": "NameError",
     "evalue": "name 'find_key_index' is not defined",
     "output_type": "error",
     "traceback": [
      "\u001b[0;31m---------------------------------------------------------------------------\u001b[0m",
      "\u001b[0;31mNameError\u001b[0m                                 Traceback (most recent call last)",
      "\u001b[1;32m/Users/aaron68lee/Documents/Coding-Projects/ForgeNet/model.ipynb Cell 22\u001b[0m in \u001b[0;36m<cell line: 1>\u001b[0;34m()\u001b[0m\n\u001b[0;32m----> <a href='vscode-notebook-cell:/Users/aaron68lee/Documents/Coding-Projects/ForgeNet/model.ipynb#Y113sZmlsZQ%3D%3D?line=0'>1</a>\u001b[0m index \u001b[39m=\u001b[39m find_key_index(filepath_dic, sample)\n\u001b[1;32m      <a href='vscode-notebook-cell:/Users/aaron68lee/Documents/Coding-Projects/ForgeNet/model.ipynb#Y113sZmlsZQ%3D%3D?line=1'>2</a>\u001b[0m \u001b[39mprint\u001b[39m(index)\n",
      "\u001b[0;31mNameError\u001b[0m: name 'find_key_index' is not defined"
     ]
    }
   ],
   "source": [
    "def find_key_index(dictionary, key):\n",
    "    keys_list = list(dictionary.keys())\n",
    "    try:\n",
    "        index = keys_list.index(key)\n",
    "        return index\n",
    "    except ValueError:\n",
    "        return None"
   ]
  },
  {
   "cell_type": "markdown",
   "metadata": {},
   "source": [
    "## Load and Preprocess Dataset"
   ]
  },
  {
   "cell_type": "code",
   "execution_count": 1,
   "metadata": {},
   "outputs": [
    {
     "name": "stdout",
     "output_type": "stream",
     "text": [
      "Load Complete\n"
     ]
    }
   ],
   "source": [
    "import numpy as np\n",
    "import tensorflow as tf\n",
    "from tensorflow.keras import layers\n",
    "import keras\n",
    "import matplotlib.pyplot as plt\n",
    "import pickle # load variables.pkl\n",
    "import cv2 # image preprocessing\n",
    "import os\n",
    "\n",
    "IMAGE_DIR = os.getcwd() + \"/Datasets/words/\"\n",
    "IMAGE_WIDTH = 128\n",
    "IMAGE_HEIGHT = 128\n",
    "\n",
    "# Step 1: Data collection - Prepare your labeled dataset\n",
    "with open(\"./variables.pkl\", \"rb\") as file:\n",
    "    (\n",
    "        filepaths_lst,\n",
    "        words_lst,\n",
    "        filepaths_dic,\n",
    "        words_dic,\n",
    "    ) = pickle.load(file)\n",
    "\n",
    "with open(\"./filtered_data/processed_images.pkl\", \"rb\") as file:\n",
    "    (\n",
    "        processed_images\n",
    "    ) = pickle.load(file)\n",
    "\n",
    "\n",
    "print(\"Load Complete\")"
   ]
  },
  {
   "cell_type": "code",
   "execution_count": 18,
   "metadata": {},
   "outputs": [],
   "source": [
    "def pre_process_image(image, TARGET_HEIGHT=100, TARGET_WIDTH=100):\n",
    "    \"\"\"This function will pre-process a image with: cv2 & deskew\n",
    "    so it can be process by tesseract\"\"\"\n",
    "    '''\n",
    "    img = cv2.imread(image)\n",
    "    img = cv2.resize(img, None, fx=.3, fy=.3) #resize using percentage\n",
    "    img = cv2.cvtColor(img, cv2.COLOR_BGR2RGB) #change color format from BGR to RGB\n",
    "    img = cv2.cvtColor(img, cv2.COLOR_BGR2GRAY) #format image to gray scale\n",
    "    img = cv2.adaptiveThreshold(img, 255, cv2.ADAPTIVE_THRESH_GAUSSIAN_C, cv2.THRESH_BINARY, 5, 11) #to remove background\n",
    "    '''\n",
    "    original_height, original_width = image.shape[:2]\n",
    "    # print(original_height, original_width)\n",
    "    aspect_ratio = original_width / original_height\n",
    "\n",
    "    if aspect_ratio >= 1.0:  # Landscape image\n",
    "        new_width = target_width\n",
    "        new_height = int(new_width / aspect_ratio)\n",
    "    else:  # Portrait image\n",
    "        new_height = target_height\n",
    "        new_width = int(new_height * aspect_ratio)\n",
    "\n",
    "    # Resize the image to the target size.\n",
    "    resized_image = cv2.resize(image, (new_width, new_height))\n",
    "\n",
    "    # Pad the resized image to make it the target size.\n",
    "    padded_image = np.ones((target_height, target_width), dtype=np.uint8) * 255\n",
    "    x_offset = (target_width - new_width) // 2\n",
    "    y_offset = (target_height - new_height) // 2\n",
    "    padded_image[y_offset:y_offset + new_height, x_offset:x_offset + new_width] = resized_image\n",
    "\n",
    "    return padded_image"
   ]
  },
  {
   "cell_type": "code",
   "execution_count": 10,
   "metadata": {},
   "outputs": [],
   "source": [
    "def pre_process_image_skew(image, TARGET_HEIGHT=100, TARGET_WIDTH=100):\n",
    "    '''\n",
    "    old preprocessing function that skews the original image\n",
    "    '''\n",
    "    #print(image_path)\n",
    "    height, width = image.shape\n",
    "    #print(f\"Image dimensions: {width} x {height}\")\n",
    "    image = cv2.resize(image, (target_width, target_height))  # Resize the image to a fixed size\n",
    "    image_tensor = tf.convert_to_tensor(image, dtype=tf.float32)\n",
    "    image_tensor = image_tensor / 127.5 - 1.0  # Normalize pixel values between 0 and 1\n",
    "\n",
    "    # Add the preprocessed image and its corresponding label to the lists\n",
    "    processed_images.append(image)\n",
    "    return image"
   ]
  },
  {
   "cell_type": "code",
   "execution_count": 26,
   "metadata": {},
   "outputs": [],
   "source": [
    "\n",
    "processed_images = []\n",
    "bad_data = [\"a01/a01-117/a01-117-05-02.png\", \"r06/r06-022/r06-022-03-05.png\"]\n",
    "bad = []\n",
    "TARGET_HEIGHT, TARGET_WIDTH = 100, 100\n",
    "\n",
    "# TEST_SIZE = 10\n",
    "\n",
    "# Step 3: process the images into normlized 100*100 grayscale images\n",
    "for i, image_path in enumerate(filepaths_dic.keys()):\n",
    "    # if i > TEST_SIZE: \n",
    "    #     break\n",
    "    \n",
    "    # Load and preprocess the image\n",
    "    if image_path in bad_data: # bad data\n",
    "        continue\n",
    "    image = cv2.imread(IMAGE_DIR+image_path, cv2.IMREAD_GRAYSCALE)\n",
    "    if image is None:\n",
    "        bad.append(image_path)\n",
    "        continue\n",
    "    height, width = image.shape\n",
    "    \"\"\"\n",
    "    change preprocess methods here\n",
    "    \"\"\"\n",
    "    padded_image = pre_process_image(image, TARGET_HEIGHT, TARGET_WIDTH)\n",
    "    # Add the preprocessed image and its corresponding label to the lists\n",
    "    processed_images.append(padded_image)"
   ]
  },
  {
   "cell_type": "code",
   "execution_count": null,
   "metadata": {},
   "outputs": [
    {
     "name": "stdout",
     "output_type": "stream",
     "text": [
      "0\n"
     ]
    }
   ],
   "source": [
    "print(len(bad))"
   ]
  },
  {
   "cell_type": "code",
   "execution_count": 2,
   "metadata": {},
   "outputs": [
    {
     "name": "stdout",
     "output_type": "stream",
     "text": [
      "Exchange\n"
     ]
    },
    {
     "data": {
      "text/plain": [
       "<matplotlib.image.AxesImage at 0x2ec74fbb0>"
      ]
     },
     "execution_count": 2,
     "metadata": {},
     "output_type": "execute_result"
    },
    {
     "data": {
      "image/png": "[encoded data removed]",
      "text/plain": [
       "<Figure size 432x288 with 1 Axes>"
      ]
     },
     "metadata": {
      "needs_background": "light"
     },
     "output_type": "display_data"
    }
   ],
   "source": [
    "# test processed_image by plot out one processed image\n",
    "import matplotlib.pyplot as plt\n",
    "\n",
    "print(words_lst[50])\n",
    "plt.imshow(processed_images[50], cmap=\"gray\")"
   ]
  },
  {
   "cell_type": "code",
   "execution_count": 48,
   "metadata": {},
   "outputs": [
    {
     "name": "stdout",
     "output_type": "stream",
     "text": [
      "Dataset Size: 115239\n",
      "Train set size: 92191\n",
      "Test set size: 11524\n",
      "Validation set size: 11524\n"
     ]
    }
   ],
   "source": [
    "\n",
    "# Step 5: Data preparation\n",
    "# Prepare your training dataset with input text and corresponding preprocessed images\n",
    "\n",
    "from sklearn.model_selection import train_test_split\n",
    "\n",
    "# Variable \"processed_images_to_text\" holds pairs of images (tensor arrays) to their text label\n",
    "# Ex. [tensor array for \"Exchange\", 'Exchange']\n",
    "processed_images_to_text = []\n",
    "for i in range(len(processed_images)):\n",
    "    processed_images_to_text.append([processed_images[i], words_lst[i]])\n",
    "\n",
    "# Split the dataset into train and test sets (80% train, 20% test)\n",
    "train, test = train_test_split(processed_images_to_text, test_size=0.2, random_state=42, shuffle=True)\n",
    "\n",
    "# Split the test set further into test and validation sets (50% test, 50% validation)\n",
    "test, val = train_test_split(test, test_size=0.5, random_state=42, shuffle=True)\n",
    "\n",
    "# Print the sizes of each split\n",
    "print(\"Dataset Size:\", len(processed_images))\n",
    "print(\"Train set size:\", len(train))\n",
    "print(\"Test set size:\", len(test))\n",
    "print(\"Validation set size:\", len(val))\n",
    "\n",
    "image_labels = [train[i][1] for i in range(len(train))] #List of all the text labels after shuffling \n",
    "images = [train[i][0] for i in range(len(train))] #List of all the image tensors after shuffling \n"
   ]
  },
  {
   "cell_type": "markdown",
   "metadata": {},
   "source": [
    "# OCR Model"
   ]
  },
  {
   "cell_type": "code",
   "execution_count": 3,
   "metadata": {},
   "outputs": [
    {
     "name": "stderr",
     "output_type": "stream",
     "text": [
      "Some weights of VisionEncoderDecoderModel were not initialized from the model checkpoint at microsoft/trocr-base-handwritten and are newly initialized: ['encoder.pooler.dense.bias', 'encoder.pooler.dense.weight']\n",
      "You should probably TRAIN this model on a down-stream task to be able to use it for predictions and inference.\n",
      "Could not find image processor class in the image processor config or the model config. Loading based on pattern matching with the model's feature extractor configuration.\n",
      "/opt/miniconda3/lib/python3.9/site-packages/transformers/models/vit/feature_extraction_vit.py:28: FutureWarning: The class ViTFeatureExtractor is deprecated and will be removed in version 5 of Transformers. Please use ViTImageProcessor instead.\n",
      "  warnings.warn(\n"
     ]
    }
   ],
   "source": [
    "# Use a pipeline as a high-level helper\n",
    "from transformers import pipeline\n",
    "pipe = pipeline(\"image-to-text\", model=\"microsoft/trocr-base-handwritten\")"
   ]
  },
  {
   "cell_type": "markdown",
   "metadata": {},
   "source": [
    "## OCR Metrics"
   ]
  },
  {
   "cell_type": "code",
   "execution_count": 4,
   "metadata": {},
   "outputs": [],
   "source": [
    "import editdistance\n",
    "import Levenshtein\n",
    "\n",
    "def cer(ground_truth, hypothesis):\n",
    "    # get character error rate\n",
    "    cer = sum(1 for a, b in zip(ground_truth, hypothesis) if a != b) / max(len(ground_truth), len(hypothesis))\n",
    "    return cer\n",
    "\n",
    "def edit_distance(ground_truth, hypothesis):\n",
    "    edit_dist = editdistance.eval(ground_truth, hypothesis)\n",
    "    return edit_dist\n",
    "\n",
    "def levenshtein_distance(ground_truth, hypothesis):\n",
    "    levenshtein_dist = Levenshtein.distance(ground_truth, hypothesis)\n",
    "    return levenshtein_dist\n",
    "\n",
    "def get_accuracy_metrics(ground_truth, hypothesis):\n",
    "    return cer(ground_truth, hypothesis), wer(ground_truth, hypothesis), edit_distance(ground_truth, hypothesis)\n",
    "\n",
    "def OCR(image_path, model=pipe): # can define custom OCR pretrained model to use #, model_path=\"./SimpleHTR-master/model\"):\n",
    "\n",
    "    '''\n",
    "    # Load the HTR-DeepWriting model\n",
    "    char_list_path = os.path.join(model_path, 'charList.txt')\n",
    "    model = Model(open(char_list_path).read(), decoderType=DecoderType.BestPath, mustRestore=True)\n",
    "\n",
    "    # Perform word segmentation\n",
    "    word_images = word_segmentation(image)\n",
    "\n",
    "    # Recognize handwriting for each word image\n",
    "    recognized_text = []\n",
    "    for word_img in word_images:\n",
    "        word_text = model.inferWord(word_img)\n",
    "        recognized_text.append(word_text)\n",
    "\n",
    "    # Join recognized words into a single string\n",
    "    final_text = ' '.join(recognized_text)\n",
    "\n",
    "    print(\"Recognized Text:\")\n",
    "    print(final_text)\n",
    "    '''\n",
    "\n",
    "    # Perform OCR on the image\n",
    "    result = model(image_path)\n",
    "    text = result[0][\"generated_text\"]\n",
    "    \n",
    "    return text"
   ]
  },
  {
   "cell_type": "markdown",
   "metadata": {},
   "source": [
    "## Example"
   ]
  },
  {
   "cell_type": "code",
   "execution_count": 9,
   "metadata": {},
   "outputs": [
    {
     "name": "stdout",
     "output_type": "stream",
     "text": [
      "Ground Truth: coloured\n",
      "./Datasets/words/e04/e04-127/e04-127-04-05.png\n"
     ]
    }
   ],
   "source": [
    "\n",
    "sample = 'e04/e04-127/e04-127-04-05.png'\n",
    "image_path = os.path.join('./Datasets/words', sample)\n",
    "\n",
    "ground_truth = filepaths_dic[sample] # words_lst[i]\n",
    "print(\"Ground Truth:\", ground_truth)\n",
    "print(image_path)\n",
    "\n"
   ]
  },
  {
   "cell_type": "code",
   "execution_count": 13,
   "metadata": {},
   "outputs": [
    {
     "data": {
      "image/png": "[encoded data removed]",
      "text/plain": [
       "<PIL.PngImagePlugin.PngImageFile image mode=L size=235x76>"
      ]
     },
     "metadata": {},
     "output_type": "display_data"
    }
   ],
   "source": [
    "from PIL import Image\n",
    "\n",
    "img = Image.open(image_path)\n",
    "display(img)"
   ]
  },
  {
   "cell_type": "code",
   "execution_count": 15,
   "metadata": {},
   "outputs": [
    {
     "name": "stdout",
     "output_type": "stream",
     "text": [
      "co launch\n"
     ]
    }
   ],
   "source": [
    "hypothesis = OCR(image_path)\n",
    "print(hypothesis)"
   ]
  },
  {
   "cell_type": "code",
   "execution_count": null,
   "metadata": {},
   "outputs": [
    {
     "ename": "NameError",
     "evalue": "name 'filepath_dic' is not defined",
     "output_type": "error",
     "traceback": [
      "\u001b[0;31m---------------------------------------------------------------------------\u001b[0m",
      "\u001b[0;31mNameError\u001b[0m                                 Traceback (most recent call last)",
      "\u001b[1;32m/Users/aaron68lee/Documents/Coding-Projects/ForgeNet/model.ipynb Cell 22\u001b[0m in \u001b[0;36m<cell line: 1>\u001b[0;34m()\u001b[0m\n\u001b[0;32m----> <a href='vscode-notebook-cell:/Users/aaron68lee/Documents/Coding-Projects/ForgeNet/model.ipynb#Y113sZmlsZQ%3D%3D?line=0'>1</a>\u001b[0m index \u001b[39m=\u001b[39m find_key_index(filepath_dic, sample)\n\u001b[1;32m      <a href='vscode-notebook-cell:/Users/aaron68lee/Documents/Coding-Projects/ForgeNet/model.ipynb#Y113sZmlsZQ%3D%3D?line=1'>2</a>\u001b[0m \u001b[39mprint\u001b[39m(index)\n",
      "\u001b[0;31mNameError\u001b[0m: name 'filepath_dic' is not defined"
     ]
    }
   ],
   "source": [
    "index = find_key_index(filepaths_dic, sample)\n",
    "print(index)"
   ]
  },
  {
   "cell_type": "code",
   "execution_count": 19,
   "metadata": {},
   "outputs": [
    {
     "ename": "NameError",
     "evalue": "name 'index' is not defined",
     "output_type": "error",
     "traceback": [
      "\u001b[0;31m---------------------------------------------------------------------------\u001b[0m",
      "\u001b[0;31mNameError\u001b[0m                                 Traceback (most recent call last)",
      "\u001b[1;32m/Users/aaron68lee/Documents/Coding-Projects/ForgeNet/model.ipynb Cell 23\u001b[0m in \u001b[0;36m<cell line: 7>\u001b[0;34m()\u001b[0m\n\u001b[1;32m      <a href='vscode-notebook-cell:/Users/aaron68lee/Documents/Coding-Projects/ForgeNet/model.ipynb#X30sZmlsZQ%3D%3D?line=3'>4</a>\u001b[0m \u001b[39mfrom\u001b[39;00m \u001b[39mfuzzywuzzy\u001b[39;00m \u001b[39mimport\u001b[39;00m fuzz\n\u001b[1;32m      <a href='vscode-notebook-cell:/Users/aaron68lee/Documents/Coding-Projects/ForgeNet/model.ipynb#X30sZmlsZQ%3D%3D?line=4'>5</a>\u001b[0m \u001b[39mfrom\u001b[39;00m \u001b[39mjiwer\u001b[39;00m \u001b[39mimport\u001b[39;00m wer\n\u001b[0;32m----> <a href='vscode-notebook-cell:/Users/aaron68lee/Documents/Coding-Projects/ForgeNet/model.ipynb#X30sZmlsZQ%3D%3D?line=6'>7</a>\u001b[0m i \u001b[39m=\u001b[39m index\n\u001b[1;32m      <a href='vscode-notebook-cell:/Users/aaron68lee/Documents/Coding-Projects/ForgeNet/model.ipynb#X30sZmlsZQ%3D%3D?line=8'>9</a>\u001b[0m ground_truth \u001b[39m=\u001b[39m words_lst[i]\n\u001b[1;32m     <a href='vscode-notebook-cell:/Users/aaron68lee/Documents/Coding-Projects/ForgeNet/model.ipynb#X30sZmlsZQ%3D%3D?line=9'>10</a>\u001b[0m \u001b[39mprint\u001b[39m(\u001b[39m\"\u001b[39m\u001b[39mGround Truth:\u001b[39m\u001b[39m\"\u001b[39m, words_lst[i])\n",
      "\u001b[0;31mNameError\u001b[0m: name 'index' is not defined"
     ]
    }
   ],
   "source": [
    "# EXAMPLE using Pytesseract (less accurate)\n",
    "\n",
    "import pytesseract\n",
    "from fuzzywuzzy import fuzz\n",
    "from jiwer import wer\n",
    "\n",
    "i = index\n",
    "\n",
    "ground_truth = words_lst[i]\n",
    "print(\"Ground Truth:\", words_lst[i])\n",
    "plt.imshow(processed_images[i], cmap=\"gray\")\n",
    "\n",
    "hypothesis = pytesseract.image_to_string(processed_images[i])\n",
    "print(\"Hypothesis:\", hypothesis)\n",
    "print(\"CER: \", cer(ground_truth, hypothesis)) # char error rate\n",
    "print(\"WER: \", wer(ground_truth, hypothesis)) # word error rate\n",
    "print(\"Edit distance: \", edit_distance(ground_truth, hypothesis)) # edit distance\n",
    "print(\"Levenshtein distance: \", levenshtein_distance(ground_truth, hypothesis)) # levenshtein distance\n"
   ]
  },
  {
   "cell_type": "markdown",
   "metadata": {},
   "source": [
    "## Evaluating OCR Model on Dataset"
   ]
  },
  {
   "cell_type": "code",
   "execution_count": 20,
   "metadata": {},
   "outputs": [
    {
     "name": "stdout",
     "output_type": "stream",
     "text": [
      "Path: ./Datasets/words/e04/e04-127/e04-127-04-05.png\n",
      "Path: ./Datasets/words/e04/e04-127/e04-127-06-00.png\n",
      "Path: ./Datasets/words/e04/e04-127/e04-127-01-09.png\n",
      "Path: ./Datasets/words/e04/e04-127/e04-127-06-01.png\n",
      "Path: ./Datasets/words/e04/e04-127/e04-127-01-08.png\n",
      "Processing completed.\n"
     ]
    }
   ],
   "source": [
    "\n",
    "# ================== Iterate through all images in subfolders recursively =======================\n",
    "from tqdm import tqdm\n",
    "\n",
    "def OCR_all(folder_path, MAX_ITER=float('inf'), progress=False, save_output=False):\n",
    "  '''\n",
    "  Function performs processing on this file structure:\n",
    "  root\n",
    "    subfolders\n",
    "      sub-subfolders\n",
    "        images\n",
    "\n",
    "  Save output flag toggles creation of additional subfolders for preprocessed images (NOT APPLICABLE)\n",
    "  '''\n",
    "  \n",
    "  iter = 0\n",
    "\n",
    "  def process_subfolder(subfolder_path):\n",
    "    nonlocal iter\n",
    "    # Get a list of files in the folder\n",
    "    file_list = os.listdir(subfolder_path)\n",
    "\n",
    "    # Initialize tqdm with the total number of files\n",
    "    if progress:\n",
    "      progress_bar = tqdm(file_list, desc='Processing Images', unit='image')\n",
    "      iterator = progress_bar\n",
    "    else:\n",
    "      iterator = file_list\n",
    "      \n",
    "    for file_name in iterator:\n",
    "      if iter >= MAX_ITER:\n",
    "        break\n",
    "\n",
    "      # Check if the file has an image extension\n",
    "      if file_name.lower().endswith(('.png', '.jpg', '.jpeg', '.bmp', '.gif')):\n",
    "          img = os.path.splitext(file_name)[0]  # Get the image name without extension\n",
    "          image_path = os.path.join(subfolder_path, file_name)\n",
    "          \n",
    "          if save_output:\n",
    "            # processed output folder\n",
    "            output_folder = os.path.join(subfolder_path, img)\n",
    "\n",
    "            if not os.path.exists(output_folder): # folder for patient i with extracted data\n",
    "                os.makedirs(output_folder)\n",
    "\n",
    "          # do processing\n",
    "          #print(\"Iteration: \", iter, \" | File:\", file_name)\n",
    "          print(\"Path:\", image_path)\n",
    "\n",
    "          iter += 1\n",
    "\n",
    "  def traverse_folder(root_folder):\n",
    "    for root, dirs, files in os.walk(root_folder):\n",
    "        for dir in dirs:\n",
    "            subfolder_path = os.path.join(root, dir)\n",
    "            process_subfolder(subfolder_path)\n",
    "\n",
    "  traverse_folder(folder_path)\n",
    "\n",
    "  print(\"Processing completed.\")\n",
    "\n",
    "word_path = './Datasets/words/'\n",
    "OCR_all(word_path, 5)"
   ]
  },
  {
   "cell_type": "code",
   "execution_count": 56,
   "metadata": {},
   "outputs": [
    {
     "name": "stdout",
     "output_type": "stream",
     "text": [
      "average cer, wer, edit_distance scores: [0.21856476856476856, 1.2727272727272727, 3.727272727272727]\n"
     ]
    },
    {
     "data": {
      "text/html": [
       "<div>\n",
       "<style scoped>\n",
       "    .dataframe tbody tr th:only-of-type {\n",
       "        vertical-align: middle;\n",
       "    }\n",
       "\n",
       "    .dataframe tbody tr th {\n",
       "        vertical-align: top;\n",
       "    }\n",
       "\n",
       "    .dataframe thead th {\n",
       "        text-align: right;\n",
       "    }\n",
       "</style>\n",
       "<table border=\"1\" class=\"dataframe\">\n",
       "  <thead>\n",
       "    <tr style=\"text-align: right;\">\n",
       "      <th></th>\n",
       "      <th>CER</th>\n",
       "      <th>WER</th>\n",
       "      <th>Edit Distance</th>\n",
       "    </tr>\n",
       "  </thead>\n",
       "  <tbody>\n",
       "    <tr>\n",
       "      <th>0</th>\n",
       "      <td>0.000000</td>\n",
       "      <td>1.0</td>\n",
       "      <td>1</td>\n",
       "    </tr>\n",
       "    <tr>\n",
       "      <th>1</th>\n",
       "      <td>0.000000</td>\n",
       "      <td>0.0</td>\n",
       "      <td>1</td>\n",
       "    </tr>\n",
       "    <tr>\n",
       "      <th>2</th>\n",
       "      <td>0.000000</td>\n",
       "      <td>0.0</td>\n",
       "      <td>1</td>\n",
       "    </tr>\n",
       "    <tr>\n",
       "      <th>3</th>\n",
       "      <td>0.500000</td>\n",
       "      <td>1.0</td>\n",
       "      <td>2</td>\n",
       "    </tr>\n",
       "    <tr>\n",
       "      <th>4</th>\n",
       "      <td>0.000000</td>\n",
       "      <td>1.0</td>\n",
       "      <td>3</td>\n",
       "    </tr>\n",
       "    <tr>\n",
       "      <th>5</th>\n",
       "      <td>0.583333</td>\n",
       "      <td>4.0</td>\n",
       "      <td>9</td>\n",
       "    </tr>\n",
       "    <tr>\n",
       "      <th>6</th>\n",
       "      <td>0.200000</td>\n",
       "      <td>1.0</td>\n",
       "      <td>2</td>\n",
       "    </tr>\n",
       "    <tr>\n",
       "      <th>7</th>\n",
       "      <td>0.692308</td>\n",
       "      <td>3.0</td>\n",
       "      <td>11</td>\n",
       "    </tr>\n",
       "    <tr>\n",
       "      <th>8</th>\n",
       "      <td>0.000000</td>\n",
       "      <td>1.0</td>\n",
       "      <td>3</td>\n",
       "    </tr>\n",
       "    <tr>\n",
       "      <th>9</th>\n",
       "      <td>0.000000</td>\n",
       "      <td>1.0</td>\n",
       "      <td>4</td>\n",
       "    </tr>\n",
       "    <tr>\n",
       "      <th>10</th>\n",
       "      <td>0.428571</td>\n",
       "      <td>1.0</td>\n",
       "      <td>4</td>\n",
       "    </tr>\n",
       "  </tbody>\n",
       "</table>\n",
       "</div>"
      ],
      "text/plain": [
       "         CER  WER  Edit Distance\n",
       "0   0.000000  1.0              1\n",
       "1   0.000000  0.0              1\n",
       "2   0.000000  0.0              1\n",
       "3   0.500000  1.0              2\n",
       "4   0.000000  1.0              3\n",
       "5   0.583333  4.0              9\n",
       "6   0.200000  1.0              2\n",
       "7   0.692308  3.0             11\n",
       "8   0.000000  1.0              3\n",
       "9   0.000000  1.0              4\n",
       "10  0.428571  1.0              4"
      ]
     },
     "metadata": {},
     "output_type": "display_data"
    }
   ],
   "source": [
    "import pandas as pd\n",
    "\n",
    "# iterate through dataset\n",
    "\n",
    "scores = []\n",
    "for i in range(len(processed_images)): \n",
    "    if i > TEST_SIZE:\n",
    "        break\n",
    "    ground_truth = words_lst[i]\n",
    "    hypothesis = pytesseract.image_to_string(processed_images[i])\n",
    "    cer_score, wer_score, edit_distance_score = get_accuracy_metrics(ground_truth, hypothesis)\n",
    "    scores.append([cer_score, wer_score, edit_distance_score]) \n",
    "\n",
    "def get_col_average(scores):\n",
    "    transposed_data = zip(*scores)\n",
    "    column_averages = [sum(column) / len(column) for column in transposed_data]\n",
    "    return column_averages\n",
    "\n",
    "\n",
    "print(\"average cer, wer, edit_distance scores:\", get_col_average(scores))\n"
   ]
  },
  {
   "cell_type": "code",
   "execution_count": 57,
   "metadata": {},
   "outputs": [
    {
     "data": {
      "text/html": [
       "<div>\n",
       "<style scoped>\n",
       "    .dataframe tbody tr th:only-of-type {\n",
       "        vertical-align: middle;\n",
       "    }\n",
       "\n",
       "    .dataframe tbody tr th {\n",
       "        vertical-align: top;\n",
       "    }\n",
       "\n",
       "    .dataframe thead th {\n",
       "        text-align: right;\n",
       "    }\n",
       "</style>\n",
       "<table border=\"1\" class=\"dataframe\">\n",
       "  <thead>\n",
       "    <tr style=\"text-align: right;\">\n",
       "      <th></th>\n",
       "      <th>CER</th>\n",
       "      <th>WER</th>\n",
       "      <th>Edit Distance</th>\n",
       "    </tr>\n",
       "  </thead>\n",
       "  <tbody>\n",
       "    <tr>\n",
       "      <th>0</th>\n",
       "      <td>0.000000</td>\n",
       "      <td>1.0</td>\n",
       "      <td>1</td>\n",
       "    </tr>\n",
       "    <tr>\n",
       "      <th>1</th>\n",
       "      <td>0.000000</td>\n",
       "      <td>0.0</td>\n",
       "      <td>1</td>\n",
       "    </tr>\n",
       "    <tr>\n",
       "      <th>2</th>\n",
       "      <td>0.000000</td>\n",
       "      <td>0.0</td>\n",
       "      <td>1</td>\n",
       "    </tr>\n",
       "    <tr>\n",
       "      <th>3</th>\n",
       "      <td>0.500000</td>\n",
       "      <td>1.0</td>\n",
       "      <td>2</td>\n",
       "    </tr>\n",
       "    <tr>\n",
       "      <th>4</th>\n",
       "      <td>0.000000</td>\n",
       "      <td>1.0</td>\n",
       "      <td>3</td>\n",
       "    </tr>\n",
       "    <tr>\n",
       "      <th>5</th>\n",
       "      <td>0.583333</td>\n",
       "      <td>4.0</td>\n",
       "      <td>9</td>\n",
       "    </tr>\n",
       "    <tr>\n",
       "      <th>6</th>\n",
       "      <td>0.200000</td>\n",
       "      <td>1.0</td>\n",
       "      <td>2</td>\n",
       "    </tr>\n",
       "    <tr>\n",
       "      <th>7</th>\n",
       "      <td>0.692308</td>\n",
       "      <td>3.0</td>\n",
       "      <td>11</td>\n",
       "    </tr>\n",
       "    <tr>\n",
       "      <th>8</th>\n",
       "      <td>0.000000</td>\n",
       "      <td>1.0</td>\n",
       "      <td>3</td>\n",
       "    </tr>\n",
       "    <tr>\n",
       "      <th>9</th>\n",
       "      <td>0.000000</td>\n",
       "      <td>1.0</td>\n",
       "      <td>4</td>\n",
       "    </tr>\n",
       "    <tr>\n",
       "      <th>10</th>\n",
       "      <td>0.428571</td>\n",
       "      <td>1.0</td>\n",
       "      <td>4</td>\n",
       "    </tr>\n",
       "  </tbody>\n",
       "</table>\n",
       "</div>"
      ],
      "text/plain": [
       "         CER  WER  Edit Distance\n",
       "0   0.000000  1.0              1\n",
       "1   0.000000  0.0              1\n",
       "2   0.000000  0.0              1\n",
       "3   0.500000  1.0              2\n",
       "4   0.000000  1.0              3\n",
       "5   0.583333  4.0              9\n",
       "6   0.200000  1.0              2\n",
       "7   0.692308  3.0             11\n",
       "8   0.000000  1.0              3\n",
       "9   0.000000  1.0              4\n",
       "10  0.428571  1.0              4"
      ]
     },
     "metadata": {},
     "output_type": "display_data"
    }
   ],
   "source": [
    "score_df = pd.DataFrame(scores, columns=['CER', 'WER', 'Edit Distance'])\n",
    "display(score_df)"
   ]
  },
  {
   "attachments": {},
   "cell_type": "markdown",
   "metadata": {},
   "source": [
    "# Loss Functions"
   ]
  },
  {
   "cell_type": "code",
   "execution_count": null,
   "metadata": {},
   "outputs": [],
   "source": [
    "import keras\n",
    "\n",
    "def reconstruction_loss(inputs, outputs):\n",
    "    reconstruction_loss = keras.losses.binary_crossentropy(inputs, outputs)\n",
    "    reconstruction_loss *= (IMAGE_WIDTH * IMAGE_HEIGHT)  # Image size\n",
    "    return reconstruction_loss\n",
    "\n",
    "def kl_divergence_loss(z_mean, z_log_var):\n",
    "    # Kullback-Leiber Divergence Loss\n",
    "    kl_loss = -0.5 * tf.reduce_sum(1 + z_log_var - tf.square(z_mean) - tf.exp(z_log_var), axis=-1)\n",
    "    return kl_loss\n",
    "\n",
    "def vae_loss(inputs, outputs, z_mean, z_log_var):\n",
    "    reconstruction = reconstruction_loss(inputs, outputs)\n",
    "    kl_divergence = kl_divergence_loss(z_mean, z_log_var)\n",
    "    return reconstruction + kl_divergence\n"
   ]
  },
  {
   "attachments": {},
   "cell_type": "markdown",
   "metadata": {},
   "source": [
    "# GAN-type Model Architecture"
   ]
  },
  {
   "cell_type": "code",
   "execution_count": 53,
   "metadata": {},
   "outputs": [
    {
     "name": "stdout",
     "output_type": "stream",
     "text": [
      "<class 'list'>\n",
      "<class 'list'>\n"
     ]
    }
   ],
   "source": [
    "print(type(image_labels))\n",
    "print(type([images]))"
   ]
  },
  {
   "cell_type": "markdown",
   "metadata": {},
   "source": [
    "## GAN Architecture"
   ]
  },
  {
   "cell_type": "code",
   "execution_count": null,
   "metadata": {},
   "outputs": [],
   "source": [
    "# Generative Adversarial Network\n",
    "\n",
    "# Step 4: Model selection\n",
    "latent_dim = 100\n",
    "text_dim = 128\n",
    "image_dim = (IMAGE_WIDTH, IMAGE_HEIGHT, 1) # using grayscale\n",
    "\n",
    "# Generator model - makes an image from text and noise\n",
    "generator_input = layers.Input(shape=(latent_dim + text_dim,))\n",
    "# hidden layers\n",
    "x = layers.Dense(256)(generator_input)\n",
    "x = layers.LeakyReLU()(x)\n",
    "x = layers.Dense(512)(x)\n",
    "x = layers.LeakyReLU()(x)\n",
    "x = layers.Dense(1024)(x)\n",
    "x = layers.LeakyReLU()(x)\n",
    "generator_output = layers.Dense(image_dim, activation='tanh')(x)\n",
    "generator = tf.keras.Model(generator_input, generator_output)\n",
    "\n",
    "# Discriminator model - classification model to predict real vs. fake \n",
    "discriminator_input = layers.Input(shape=(image_dim,))\n",
    "x = layers.Dense(512)(discriminator_input)\n",
    "x = layers.LeakyReLU()(x)\n",
    "x = layers.Dense(256)(x)\n",
    "x = layers.LeakyReLU()(x)\n",
    "x = layers.Dense(128)(x)\n",
    "x = layers.LeakyReLU()(x)\n",
    "discriminator_output = layers.Dense(1, activation='sigmoid')(x)\n",
    "discriminator = tf.keras.Model(discriminator_input, discriminator_output)\n",
    "\n",
    "# Combined model\n",
    "gan_input = layers.Input(shape=(latent_dim + text_dim,))\n",
    "generated_image = generator(gan_input)\n",
    "discriminator.trainable = False\n",
    "gan_output = discriminator(generated_image)\n",
    "gan = tf.keras.Model(gan_input, gan_output)\n",
    "\n"
   ]
  },
  {
   "cell_type": "markdown",
   "metadata": {},
   "source": [
    "## Alternative Architecture"
   ]
  },
  {
   "cell_type": "code",
   "execution_count": null,
   "metadata": {},
   "outputs": [],
   "source": [
    "# Generator model\n",
    "def build_generator():\n",
    "    input_noise = layers.Input(shape=(latent_dim,))\n",
    "    input_text = layers.Input(shape=(text_dim,))\n",
    "\n",
    "    # Concatenate the noise and text input\n",
    "    combined_input = layers.Concatenate()([input_noise, input_text])\n",
    "\n",
    "    x = layers.Dense(256)(combined_input)\n",
    "    x = layers.LeakyReLU()(x)\n",
    "    x = layers.Reshape((8, 8, 4))(x)\n",
    "\n",
    "    x = layers.Conv2DTranspose(128, (5, 5), strides=(2, 2), padding='same')(x)\n",
    "    x = layers.LeakyReLU()(x)\n",
    "\n",
    "    x = layers.Conv2DTranspose(64, (5, 5), strides=(2, 2), padding='same')(x)\n",
    "    x = layers.LeakyReLU()(x)\n",
    "\n",
    "    output_image = layers.Conv2D(1, (3, 3), activation='tanh', padding='same')(x)\n",
    "\n",
    "    generator = models.Model(inputs=[input_noise, input_text], outputs=output_image, name='Generator')\n",
    "    return generator\n",
    "\n",
    "# Discriminator model\n",
    "def build_discriminator():\n",
    "    input_image = layers.Input(shape=image_dim)\n",
    "    input_text = layers.Input(shape=(text_dim,))\n",
    "\n",
    "    x = layers.Conv2D(64, (3, 3), strides=(2, 2), padding='same')(input_image)\n",
    "    x = layers.LeakyReLU()(x)\n",
    "\n",
    "    x = layers.Conv2D(128, (3, 3), strides=(2, 2), padding='same')(x)\n",
    "    x = layers.LeakyReLU()(x)\n",
    "\n",
    "    x = layers.Flatten()(x)\n",
    "\n",
    "    # Concatenate the image features and text input\n",
    "    combined_input = layers.Concatenate()([x, input_text])\n",
    "\n",
    "    x = layers.Dense(256)(combined_input)\n",
    "    x = layers.LeakyReLU()(x)\n",
    "\n",
    "    output_pred = layers.Dense(1, activation='sigmoid')(x)\n",
    "\n",
    "    discriminator = models.Model(inputs=[input_image, input_text], outputs=output_pred, name='Discriminator')\n",
    "    return discriminator"
   ]
  },
  {
   "cell_type": "markdown",
   "metadata": {},
   "source": [
    "## Train GAN Model"
   ]
  },
  {
   "cell_type": "code",
   "execution_count": 61,
   "metadata": {},
   "outputs": [
    {
     "name": "stderr",
     "output_type": "stream",
     "text": [
      "Epochs:   0%|          | 0/100 [00:00<?, ?epoch/s]\n"
     ]
    },
    {
     "ename": "ValueError",
     "evalue": "Failed to find data adapter that can handle input: (<class 'list'> containing values of types {'(<class \\'list\\'> containing values of types {\"<class \\'str\\'>\"})', \"<class 'numpy.ndarray'>\"}), <class 'NoneType'>",
     "output_type": "error",
     "traceback": [
      "\u001b[0;31m---------------------------------------------------------------------------\u001b[0m",
      "\u001b[0;31mValueError\u001b[0m                                Traceback (most recent call last)",
      "\u001b[1;32m/Users/aaron68lee/Documents/Coding-Projects/ForgeNet/model.ipynb Cell 18\u001b[0m in \u001b[0;36m<cell line: 10>\u001b[0;34m()\u001b[0m\n\u001b[1;32m     <a href='vscode-notebook-cell:/Users/aaron68lee/Documents/Coding-Projects/ForgeNet/model.ipynb#X33sZmlsZQ%3D%3D?line=14'>15</a>\u001b[0m text_input \u001b[39m=\u001b[39m image_labels[batch:(batch \u001b[39m+\u001b[39m batch_size)]\n\u001b[1;32m     <a href='vscode-notebook-cell:/Users/aaron68lee/Documents/Coding-Projects/ForgeNet/model.ipynb#X33sZmlsZQ%3D%3D?line=16'>17</a>\u001b[0m \u001b[39m# Generate images from noise and text input\u001b[39;00m\n\u001b[1;32m     <a href='vscode-notebook-cell:/Users/aaron68lee/Documents/Coding-Projects/ForgeNet/model.ipynb#X33sZmlsZQ%3D%3D?line=17'>18</a>\u001b[0m \u001b[39m# generator input shape should be (latent_dim + text_dim,)\u001b[39;00m\n\u001b[0;32m---> <a href='vscode-notebook-cell:/Users/aaron68lee/Documents/Coding-Projects/ForgeNet/model.ipynb#X33sZmlsZQ%3D%3D?line=18'>19</a>\u001b[0m generated_images \u001b[39m=\u001b[39m generator\u001b[39m.\u001b[39;49mpredict([noise, text_input])\n\u001b[1;32m     <a href='vscode-notebook-cell:/Users/aaron68lee/Documents/Coding-Projects/ForgeNet/model.ipynb#X33sZmlsZQ%3D%3D?line=20'>21</a>\u001b[0m \u001b[39m# Combine real and generated images for the discriminator\u001b[39;00m\n\u001b[1;32m     <a href='vscode-notebook-cell:/Users/aaron68lee/Documents/Coding-Projects/ForgeNet/model.ipynb#X33sZmlsZQ%3D%3D?line=21'>22</a>\u001b[0m real_images \u001b[39m=\u001b[39m images[batch:(batch \u001b[39m+\u001b[39m batch_size)]  \u001b[39m# Custom function to get real images\u001b[39;00m\n",
      "File \u001b[0;32m/opt/miniconda3/lib/python3.9/site-packages/keras/utils/traceback_utils.py:70\u001b[0m, in \u001b[0;36mfilter_traceback.<locals>.error_handler\u001b[0;34m(*args, **kwargs)\u001b[0m\n\u001b[1;32m     67\u001b[0m     filtered_tb \u001b[39m=\u001b[39m _process_traceback_frames(e\u001b[39m.\u001b[39m__traceback__)\n\u001b[1;32m     68\u001b[0m     \u001b[39m# To get the full stack trace, call:\u001b[39;00m\n\u001b[1;32m     69\u001b[0m     \u001b[39m# `tf.debugging.disable_traceback_filtering()`\u001b[39;00m\n\u001b[0;32m---> 70\u001b[0m     \u001b[39mraise\u001b[39;00m e\u001b[39m.\u001b[39mwith_traceback(filtered_tb) \u001b[39mfrom\u001b[39;00m \u001b[39mNone\u001b[39;00m\n\u001b[1;32m     71\u001b[0m \u001b[39mfinally\u001b[39;00m:\n\u001b[1;32m     72\u001b[0m     \u001b[39mdel\u001b[39;00m filtered_tb\n",
      "File \u001b[0;32m/opt/miniconda3/lib/python3.9/site-packages/keras/engine/data_adapter.py:1081\u001b[0m, in \u001b[0;36mselect_data_adapter\u001b[0;34m(x, y)\u001b[0m\n\u001b[1;32m   1078\u001b[0m adapter_cls \u001b[39m=\u001b[39m [\u001b[39mcls\u001b[39m \u001b[39mfor\u001b[39;00m \u001b[39mcls\u001b[39m \u001b[39min\u001b[39;00m ALL_ADAPTER_CLS \u001b[39mif\u001b[39;00m \u001b[39mcls\u001b[39m\u001b[39m.\u001b[39mcan_handle(x, y)]\n\u001b[1;32m   1079\u001b[0m \u001b[39mif\u001b[39;00m \u001b[39mnot\u001b[39;00m adapter_cls:\n\u001b[1;32m   1080\u001b[0m     \u001b[39m# TODO(scottzhu): This should be a less implementation-specific error.\u001b[39;00m\n\u001b[0;32m-> 1081\u001b[0m     \u001b[39mraise\u001b[39;00m \u001b[39mValueError\u001b[39;00m(\n\u001b[1;32m   1082\u001b[0m         \u001b[39m\"\u001b[39m\u001b[39mFailed to find data adapter that can handle input: \u001b[39m\u001b[39m{}\u001b[39;00m\u001b[39m, \u001b[39m\u001b[39m{}\u001b[39;00m\u001b[39m\"\u001b[39m\u001b[39m.\u001b[39mformat(\n\u001b[1;32m   1083\u001b[0m             _type_name(x), _type_name(y)\n\u001b[1;32m   1084\u001b[0m         )\n\u001b[1;32m   1085\u001b[0m     )\n\u001b[1;32m   1086\u001b[0m \u001b[39melif\u001b[39;00m \u001b[39mlen\u001b[39m(adapter_cls) \u001b[39m>\u001b[39m \u001b[39m1\u001b[39m:\n\u001b[1;32m   1087\u001b[0m     \u001b[39mraise\u001b[39;00m \u001b[39mRuntimeError\u001b[39;00m(\n\u001b[1;32m   1088\u001b[0m         \u001b[39m\"\u001b[39m\u001b[39mData adapters should be mutually exclusive for \u001b[39m\u001b[39m\"\u001b[39m\n\u001b[1;32m   1089\u001b[0m         \u001b[39m\"\u001b[39m\u001b[39mhandling inputs. Found multiple adapters \u001b[39m\u001b[39m{}\u001b[39;00m\u001b[39m to handle \u001b[39m\u001b[39m\"\u001b[39m\n\u001b[1;32m   1090\u001b[0m         \u001b[39m\"\u001b[39m\u001b[39minput: \u001b[39m\u001b[39m{}\u001b[39;00m\u001b[39m, \u001b[39m\u001b[39m{}\u001b[39;00m\u001b[39m\"\u001b[39m\u001b[39m.\u001b[39mformat(adapter_cls, _type_name(x), _type_name(y))\n\u001b[1;32m   1091\u001b[0m     )\n",
      "\u001b[0;31mValueError\u001b[0m: Failed to find data adapter that can handle input: (<class 'list'> containing values of types {'(<class \\'list\\'> containing values of types {\"<class \\'str\\'>\"})', \"<class 'numpy.ndarray'>\"}), <class 'NoneType'>"
     ]
    }
   ],
   "source": [
    "# Step 6: Model training\n",
    "\n",
    "from tqdm import tqdm\n",
    "\n",
    "batch_size = 32\n",
    "epochs = 100\n",
    "optimizer = tf.keras.optimizers.Adam(learning_rate=0.0002, beta_1=0.5)\n",
    "loss = tf.keras.losses.BinaryCrossentropy(from_logits=True)\n",
    "\n",
    "for epoch in tqdm(range(epochs), desc='Epochs', unit='epoch'):\n",
    "    for batch in tqdm(range(len(train) // batch_size), desc='Batches', unit='batch', leave=False): #range(len(train) // batch_size):\n",
    "        # Generate random noise and text input\n",
    "        noise = np.random.normal(size=(batch_size, latent_dim))\n",
    "\n",
    "        text_input = image_labels[batch:(batch + batch_size)] # process string -> vector\n",
    "        # consider OneHot Encoding characters\n",
    "        \n",
    "        # Generate images from noise and text input\n",
    "        # generator input shape should be (latent_dim + text_dim,)\n",
    "        generated_images = generator.predict([noise, text_input])\n",
    "\n",
    "        # Combine real and generated images for the discriminator\n",
    "        real_images = images[batch:(batch + batch_size)]  # Custom function to get real images\n",
    "        combined_images = np.concatenate([real_images, generated_images])\n",
    "\n",
    "        # Labels for real and generated images\n",
    "        labels = np.concatenate([np.ones((batch_size, 1)), np.zeros((batch_size, 1))])\n",
    "        labels += 0.05 * np.random.random(labels.shape)\n",
    "\n",
    "        # Train the discriminator\n",
    "        with tf.GradientTape() as tape:\n",
    "            predictions = discriminator(combined_images)\n",
    "            discriminator_loss = loss(labels, predictions)\n",
    "        grads = tape.gradient(discriminator_loss, discriminator.trainable_weights)\n",
    "        optimizer.apply_gradients(zip(grads, discriminator.trainable_weights))\n",
    "\n",
    "        # Train the generator (via the gan model)\n",
    "        noise = np.random.normal(size=(batch_size, latent_dim))\n",
    "        text_input = image_labels[batch:(batch + batch_size)]  # Custom function to get text input\n",
    "        labels = np.ones((batch_size, 1))\n",
    "        with tf.GradientTape() as tape:\n",
    "            generated_images = generator([noise, text_input])\n",
    "            predictions = discriminator(generated_images)\n",
    "            generator_loss = loss(labels, predictions)\n",
    "        grads = tape.gradient(generator_loss, generator.trainable_weights)\n",
    "        optimizer.apply_gradients(zip(grads, generator.trainable_weights))\n"
   ]
  },
  {
   "cell_type": "markdown",
   "metadata": {},
   "source": [
    "## Alt Training Loop"
   ]
  },
  {
   "cell_type": "code",
   "execution_count": null,
   "metadata": {},
   "outputs": [],
   "source": [
    "# Step 6: Model training\n",
    "def train_gan(gan, generator, discriminator, train_data, epochs, batch_size):\n",
    "    for epoch in range(epochs):\n",
    "        for batch in range(len(train_data) // batch_size):\n",
    "            noise = np.random.normal(size=(batch_size, latent_dim))\n",
    "            text_input = train_data[batch * batch_size : (batch + 1) * batch_size, 1]\n",
    "\n",
    "            generated_images = generator.predict([noise, text_input])\n",
    "\n",
    "            real_images = train_data[batch * batch_size : (batch + 1) * batch_size, 0]\n",
    "            combined_images = np.concatenate([real_images, generated_images])\n",
    "\n",
    "            labels = np.concatenate([np.ones((batch_size, 1)), np.zeros((batch_size, 1))])\n",
    "            labels += 0.05 * np.random.random(labels.shape)\n",
    "\n",
    "            d_loss = discriminator.train_on_batch(combined_images, labels)\n",
    "\n",
    "            noise = np.random.normal(size=(batch_size, latent_dim))\n",
    "            text_input = train_data[batch * batch_size : (batch + 1) * batch_size, 1]\n",
    "            labels = np.ones((batch_size, 1))\n",
    "\n",
    "            g_loss = gan.train_on_batch([noise, text_input], labels)\n",
    "\n",
    "            print(f\"Epoch {epoch}/{epochs}, Batch {batch}/{len(train_data) // batch_size}, D Loss: {d_loss}, G Loss: {g_loss}\")"
   ]
  },
  {
   "cell_type": "markdown",
   "metadata": {},
   "source": [
    "## GAN Evaluation"
   ]
  },
  {
   "cell_type": "code",
   "execution_count": null,
   "metadata": {},
   "outputs": [],
   "source": [
    "# Step 7: Generate sample images and evaluate the GAN model\n",
    "\n",
    "# Create a function to generate and save sample images\n",
    "def generate_images(model, epoch, noise_dim, num_examples_to_generate, text_input, dir='./generated'):\n",
    "    \"\"\"\n",
    "    Generate a 4x4 grid of images from a GAN model.\n",
    "    Args:\n",
    "        model: The GAN model that will be used to generate the images.\n",
    "        epoch: The epoch at which the images will be generated.\n",
    "        noise_dim: The dimensionality of the noise vector that will be used to generate the images.\n",
    "        num_examples_to_generate: The number of images that will be generated.\n",
    "        text_input: The text input that will be used to condition the GAN model.\n",
    "    Returns:\n",
    "        None.\n",
    "    \"\"\"\n",
    "    # Process the text input with the dimension of noise\n",
    "    predictions = model([noise_dim, text_input])\n",
    "    # Create a new figure with a size of 3 x 3 inches\n",
    "    fig = plt.figure(figsize=(3, 3))\n",
    "    # Loop over the generated images\n",
    "    for i in range(predictions.shape[0]):\n",
    "        # Create a subplot in the figure\n",
    "        plt.subplot(4, 4, i + 1)\n",
    "        # Plot the image in the subplot\n",
    "        plt.imshow(predictions[i, :, :, 0] * 127.5 + 127.5, cmap='gray')\n",
    "        # Set the axis of the subplot to `off`\n",
    "        plt.axis('off')\n",
    "        # Save the figure as a PNG file with the name `image_at_epoch_{epoch}.png`\n",
    "        #path = os.path(dir)\n",
    "        plt.savefig(f'./{dir}/image_at_epoch_{epoch}.png')\n",
    "        plt.close()\n",
    "\n",
    "# Define the noise dimension for generating sample images\n",
    "noise_dim = 100\n",
    "\n",
    "# Create random noise and text input for generating sample images\n",
    "num_examples_to_generate = 16\n",
    "noise = np.random.normal(size=(num_examples_to_generate, noise_dim))\n",
    "text_input = get_random_text_input(0, num_examples_to_generate)  # Custom function to get text input\n",
    "\n",
    "# Generate and save sample images using the generator model\n",
    "generate_and_save_images(generator, 0, noise_dim, num_examples_to_generate, text_input)\n",
    "\n",
    "# Evaluate the GAN model\n",
    "# You can define evaluation metrics or procedures here to assess the quality of generated images and discriminator performance.\n",
    "# For example, you can use an external evaluation metric like FID (Fréchet Inception Distance) or manually inspect the generated images.\n",
    "\n",
    "# Save the trained generator and discriminator models\n",
    "generator.save('gan_generator.h5')\n",
    "discriminator.save('gan_discriminator.h5')\n"
   ]
  },
  {
   "cell_type": "markdown",
   "metadata": {},
   "source": [
    "## GAN Inference"
   ]
  },
  {
   "cell_type": "code",
   "execution_count": null,
   "metadata": {},
   "outputs": [],
   "source": [
    "\n",
    "# Step 9: Generation - Generate new images based on input text\n",
    "input_text = \"Hello, World!\"\n",
    "noise = np.random.normal(size=(1, latent_dim))\n",
    "text_input = preprocess_text(input_text)  # Custom function to preprocess input text\n",
    "generated_image = generator.predict([noise, text_input])\n",
    "\n",
    "# Display or save the generated image"
   ]
  },
  {
   "attachments": {},
   "cell_type": "markdown",
   "metadata": {},
   "source": [
    "# VAE-type Model Architecture"
   ]
  },
  {
   "cell_type": "code",
   "execution_count": null,
   "metadata": {},
   "outputs": [],
   "source": [
    "import numpy as np\n",
    "import tensorflow as tf\n",
    "from tensorflow import keras\n",
    "from tensorflow.keras import layers\n",
    "import keras\n",
    "import sys\n",
    "\n",
    "path = \"/Users/aaron68lee/Documents/Coding-Projects/ForgeNet/GAN_VAE_Model\"\n",
    "sys.path.append(path)"
   ]
  },
  {
   "cell_type": "code",
   "execution_count": null,
   "metadata": {},
   "outputs": [],
   "source": [
    "latent_dim = 128  # Dimensionality of the latent space\n",
    "\n",
    "# Encoder\n",
    "encoder_inputs = keras.Input(shape=(28, 28, 1))\n",
    "x = layers.Conv2D(32, 3, activation=\"relu\", strides=2, padding=\"same\")(encoder_inputs)\n",
    "x = layers.Conv2D(64, 3, activation=\"relu\", strides=2, padding=\"same\")(x)\n",
    "x = layers.Flatten()(x)\n",
    "x = layers.Dense(16, activation=\"relu\")(x)\n",
    "z_mean = layers.Dense(latent_dim, name=\"z_mean\")(x)\n",
    "z_log_var = layers.Dense(latent_dim, name=\"z_log_var\")(x)\n",
    "encoder = keras.Model(encoder_inputs, [z_mean, z_log_var], name=\"encoder\")\n",
    "\n",
    "# Decoder\n",
    "latent_inputs = keras.Input(shape=(latent_dim,))\n",
    "x = layers.Dense(7 * 7 * 64, activation=\"relu\")(latent_inputs)\n",
    "x = layers.Reshape((7, 7, 64))(x)\n",
    "x = layers.Conv2DTranspose(64, 3, activation=\"relu\", strides=2, padding=\"same\")(x)\n",
    "x = layers.Conv2DTranspose(32, 3, activation=\"relu\", strides=2, padding=\"same\")(x)\n",
    "decoder_outputs = layers.Conv2DTranspose(1, 3, activation=\"sigmoid\", padding=\"same\")(x)\n",
    "decoder = keras.Model(latent_inputs, decoder_outputs, name=\"decoder\")\n",
    "\n",
    "# Variational Autoencoder\n",
    "class VAE(keras.Model):\n",
    "    def __init__(self, encoder, decoder, **kwargs):\n",
    "        super(VAE, self).__init__(**kwargs)\n",
    "        self.encoder = encoder\n",
    "        self.decoder = decoder\n",
    "\n",
    "    def call(self, inputs):\n",
    "        z_mean, z_log_var = self.encoder(inputs)\n",
    "        epsilon = tf.random.normal(shape=tf.shape(z_mean))\n",
    "        z = z_mean + tf.exp(0.5 * z_log_var) * epsilon\n",
    "        reconstructed = self.decoder(z)\n",
    "        return reconstructed\n",
    "\n",
    "# instantiate VAE model and loss metrics\n",
    "vae = VAE(encoder, decoder)\n",
    "optimizer = keras.optimizers.Adam()\n",
    "vae.compile(optimizer, loss=vae_loss)"
   ]
  },
  {
   "attachments": {},
   "cell_type": "markdown",
   "metadata": {},
   "source": [
    "## Train VAE Model"
   ]
  },
  {
   "cell_type": "code",
   "execution_count": null,
   "metadata": {},
   "outputs": [],
   "source": [
    "vae.fit(dataset, epochs=10, batch_size=64)\n",
    "\n",
    "random_latent_vectors = tf.random.normal(shape=(num_samples, latent_dim))\n",
    "generated_images = decoder(random_latent_vectors)"
   ]
  },
  {
   "attachments": {},
   "cell_type": "markdown",
   "metadata": {},
   "source": [
    "## VAE Inference"
   ]
  },
  {
   "cell_type": "code",
   "execution_count": null,
   "metadata": {},
   "outputs": [],
   "source": [
    "path_to_saved_model = '/content/scrabble-gan/res/out/big_ac_gan/model/generator_' + str(epochs)\n",
    "\n",
    "# number of samples to generate\n",
    "n_samples = 10\n",
    "# your sample string\n",
    "sample_string = 'machinelearning'\n",
    "\n",
    "# load trained model\n",
    "imported_model = tf.saved_model.load(path_to_saved_model)\n",
    "\n",
    "# inference loop\n",
    "for idx in range(1):\n",
    "  fake_labels = []\n",
    "  words = [sample_string] * 10\n",
    "  noise = tf.random.normal([n_samples, latent_dim])\n",
    "  \n",
    "  # encode words\n",
    "  for word in words:\n",
    "    fake_labels.append([char_vec.index(char) for char in word])\n",
    "  fake_labels = np.array(fake_labels, np.int32)\n",
    "\n",
    "  # run inference process\n",
    "  predictions = imported_model([noise, fake_labels], training=False)\n",
    "  # transform values into range [0, 1]\n",
    "  predictions = (predictions + 1) / 2.0\n",
    "\n",
    "  # plot results\n",
    "  for i in range(predictions.shape[0]):\n",
    "    plt.subplot(10, 1, i + 1)\n",
    "    plt.imshow(predictions[i, :, :, 0], cmap='gray')\n",
    "    # plt.text(0, -1, \"\".join([char_vec[label] for label in fake_labels[i]]))\n",
    "    plt.axis('off')\n",
    "    plt.show()"
   ]
  },
  {
   "cell_type": "markdown",
   "metadata": {},
   "source": [
    "# Generation with GAN_VAE_Model Framework"
   ]
  },
  {
   "cell_type": "code",
   "execution_count": null,
   "metadata": {},
   "outputs": [],
   "source": [
    "# run shell\n",
    "# python ./GAN_VAE_Model/generate.py -d ./generated\n"
   ]
  },
  {
   "attachments": {},
   "cell_type": "markdown",
   "metadata": {},
   "source": [
    "# Post-processing"
   ]
  },
  {
   "cell_type": "markdown",
   "metadata": {},
   "source": [
    "# Save and Load Project States"
   ]
  },
  {
   "cell_type": "code",
   "execution_count": 27,
   "metadata": {},
   "outputs": [
    {
     "name": "stdout",
     "output_type": "stream",
     "text": [
      "Save Complete\n"
     ]
    }
   ],
   "source": [
    "# Save Stuff\n",
    "\n",
    "# Put processed images in new folder\n",
    "import pickle\n",
    "with open(\"./filtered_data/processed_images.pkl\", \"wb\") as file:\n",
    "    pickle.dump(processed_images, file)\n",
    "print(\"Save Complete\")"
   ]
  },
  {
   "cell_type": "code",
   "execution_count": 28,
   "metadata": {},
   "outputs": [
    {
     "name": "stdout",
     "output_type": "stream",
     "text": [
      "Load Complete\n"
     ]
    }
   ],
   "source": [
    "# Load Stuff\n",
    "with open(\"./filtered_data/processed_images.pkl\", \"rb\") as file:\n",
    "    (\n",
    "        processed_images\n",
    "    ) = pickle.load(file)\n",
    "print(\"Load Complete\")"
   ]
  },
  {
   "cell_type": "code",
   "execution_count": 29,
   "metadata": {},
   "outputs": [
    {
     "data": {
      "text/plain": [
       "115239"
      ]
     },
     "execution_count": 29,
     "metadata": {},
     "output_type": "execute_result"
    }
   ],
   "source": []
  },
  {
   "cell_type": "code",
   "execution_count": null,
   "metadata": {},
   "outputs": [],
   "source": []
  }
 ],
 "metadata": {
  "kernelspec": {
   "display_name": "conda",
   "language": "python",
   "name": "base"
  },
  "language_info": {
   "codemirror_mode": {
    "name": "ipython",
    "version": 3
   },
   "file_extension": ".py",
   "mimetype": "text/x-python",
   "name": "python",
   "nbconvert_exporter": "python",
   "pygments_lexer": "ipython3",
   "version": "3.9.12"
  },
  "orig_nbformat": 4
 },
 "nbformat": 4,
 "nbformat_minor": 2
}
