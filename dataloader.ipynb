{
 "cells": [
  {
   "attachments": {},
   "cell_type": "markdown",
   "metadata": {},
   "source": [
    "# Load Raw Data"
   ]
  },
  {
   "cell_type": "code",
   "execution_count": 13,
   "metadata": {},
   "outputs": [],
   "source": [
    "# import modules\n",
    "\n",
    "import pickle\n",
    "import numpy as np\n",
    "import pandas as pd\n",
    "# #import tensorflow as tf\n",
    "\n"
   ]
  },
  {
   "cell_type": "code",
   "execution_count": 14,
   "metadata": {},
   "outputs": [],
   "source": [
    "def extract_text(file_path):\n",
    "    last_words = []\n",
    "    with open(file_path, 'r') as file:\n",
    "        lines = file.readlines()\n",
    "\n",
    "        for line in lines:\n",
    "            if '#' in line:\n",
    "                continue\n",
    "\n",
    "            comment_index = line.find('#')\n",
    "            if comment_index == -1:\n",
    "                continue\n",
    "\n",
    "            last_word = line[comment_index+1:].strip().split()[-1]\n",
    "            last_words.append(last_word)\n",
    "\n",
    "    return last_words\n",
    "\n",
    "def extract_text():\n",
    "  \"\"\"Extracts the last word from each line in the input file and returns the words as a list.\"\"\"\n",
    "\n",
    "  # Open the input file.\n",
    "  with open(\"input.txt\", \"r\") as f:\n",
    "    lines = f.readlines()\n",
    "\n",
    "  # Initialize a list to store the last words.\n",
    "  last_words = []\n",
    "\n",
    "  # Iterate over the lines in the file.\n",
    "  for line in lines:\n",
    "    # Remove any Python comments from the line.\n",
    "    line = re.sub(r\"#.*\", \"\", line)\n",
    "\n",
    "    # Extract the last word from the line.\n",
    "    last_word = extract_last_word(line)\n",
    "\n",
    "    # Add the last word to the list.\n",
    "    last_words.append(last_word)\n",
    "\n",
    "  return last_words\n"
   ]
  },
  {
   "cell_type": "code",
   "execution_count": 15,
   "metadata": {},
   "outputs": [
    {
     "ename": "IndexError",
     "evalue": "list index out of range",
     "output_type": "error",
     "traceback": [
      "\u001b[0;31m---------------------------------------------------------------------------\u001b[0m",
      "\u001b[0;31mIndexError\u001b[0m                                Traceback (most recent call last)",
      "\u001b[1;32m/Users/aaron68lee/Documents/Coding-Projects/ForgeNet/dataloader.ipynb Cell 4\u001b[0m in \u001b[0;36m2\n\u001b[1;32m      <a href='vscode-notebook-cell:/Users/aaron68lee/Documents/Coding-Projects/ForgeNet/dataloader.ipynb#W2sZmlsZQ%3D%3D?line=0'>1</a>\u001b[0m file_path \u001b[39m=\u001b[39m \u001b[39m\"\u001b[39m\u001b[39m./Datasets/ascii/words.txt\u001b[39m\u001b[39m\"\u001b[39m  \u001b[39m# the actual file path\u001b[39;00m\n\u001b[0;32m----> <a href='vscode-notebook-cell:/Users/aaron68lee/Documents/Coding-Projects/ForgeNet/dataloader.ipynb#W2sZmlsZQ%3D%3D?line=1'>2</a>\u001b[0m last_words_list \u001b[39m=\u001b[39m extract_text(file_path)\n\u001b[1;32m      <a href='vscode-notebook-cell:/Users/aaron68lee/Documents/Coding-Projects/ForgeNet/dataloader.ipynb#W2sZmlsZQ%3D%3D?line=3'>4</a>\u001b[0m \u001b[39mprint\u001b[39m(last_words_list)\n",
      "\u001b[1;32m/Users/aaron68lee/Documents/Coding-Projects/ForgeNet/dataloader.ipynb Cell 4\u001b[0m in \u001b[0;36m1\n\u001b[1;32m     <a href='vscode-notebook-cell:/Users/aaron68lee/Documents/Coding-Projects/ForgeNet/dataloader.ipynb#W2sZmlsZQ%3D%3D?line=10'>11</a>\u001b[0m         \u001b[39mif\u001b[39;00m comment_index \u001b[39m==\u001b[39m \u001b[39m-\u001b[39m\u001b[39m1\u001b[39m:\n\u001b[1;32m     <a href='vscode-notebook-cell:/Users/aaron68lee/Documents/Coding-Projects/ForgeNet/dataloader.ipynb#W2sZmlsZQ%3D%3D?line=11'>12</a>\u001b[0m             \u001b[39mcontinue\u001b[39;00m\n\u001b[0;32m---> <a href='vscode-notebook-cell:/Users/aaron68lee/Documents/Coding-Projects/ForgeNet/dataloader.ipynb#W2sZmlsZQ%3D%3D?line=13'>14</a>\u001b[0m         last_word \u001b[39m=\u001b[39m line[comment_index\u001b[39m+\u001b[39;49m\u001b[39m1\u001b[39;49m:]\u001b[39m.\u001b[39;49mstrip()\u001b[39m.\u001b[39;49msplit()[\u001b[39m-\u001b[39;49m\u001b[39m1\u001b[39;49m]\n\u001b[1;32m     <a href='vscode-notebook-cell:/Users/aaron68lee/Documents/Coding-Projects/ForgeNet/dataloader.ipynb#W2sZmlsZQ%3D%3D?line=14'>15</a>\u001b[0m         last_words\u001b[39m.\u001b[39mappend(last_word)\n\u001b[1;32m     <a href='vscode-notebook-cell:/Users/aaron68lee/Documents/Coding-Projects/ForgeNet/dataloader.ipynb#W2sZmlsZQ%3D%3D?line=16'>17</a>\u001b[0m \u001b[39mreturn\u001b[39;00m last_words\n",
      "\u001b[0;31mIndexError\u001b[0m: list index out of range"
     ]
    }
   ],
   "source": [
    "file_path = \"./Datasets/ascii/words.txt\"  # the actual file path\n",
    "last_words_list = extract_text(file_path)\n",
    "\n",
    "print(last_words_list)"
   ]
  },
  {
   "cell_type": "code",
   "execution_count": null,
   "metadata": {},
   "outputs": [],
   "source": []
  }
 ],
 "metadata": {
  "kernelspec": {
   "display_name": "Python 3",
   "language": "python",
   "name": "python3"
  },
  "language_info": {
   "codemirror_mode": {
    "name": "ipython",
    "version": 3
   },
   "file_extension": ".py",
   "mimetype": "text/x-python",
   "name": "python",
   "nbconvert_exporter": "python",
   "pygments_lexer": "ipython3",
   "version": "3.11.0"
  },
  "orig_nbformat": 4
 },
 "nbformat": 4,
 "nbformat_minor": 2
}
